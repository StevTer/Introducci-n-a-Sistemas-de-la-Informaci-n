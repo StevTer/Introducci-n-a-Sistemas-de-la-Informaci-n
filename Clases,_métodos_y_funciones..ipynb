{
  "nbformat": 4,
  "nbformat_minor": 0,
  "metadata": {
    "colab": {
      "provenance": []
    },
    "kernelspec": {
      "name": "python3",
      "display_name": "Python 3"
    },
    "language_info": {
      "name": "python"
    }
  },
  "cells": [
    {
      "cell_type": "markdown",
      "source": [
        "Creando un sistema de cliente, producto, compra y saldo."
      ],
      "metadata": {
        "id": "CeQllyLZoR41"
      }
    },
    {
      "cell_type": "markdown",
      "source": [
        "1. Crear la clase Cliente, definiendo nombre, cedula, su saldo y su historial.\n",
        "2. Definir el método \"comprar\", dónde se pondrá la fecha de compra y se descontará el saldo del Cliente si este es más grade que el precio del producto, añadiendo asi el producto y la fecha a su historial."
      ],
      "metadata": {
        "id": "4D9QW9stomZW"
      }
    },
    {
      "cell_type": "code",
      "source": [
        "class Cliente:\n",
        "  def __init__(self, nombre, cedula, saldo = 0.0, historial=[]):\n",
        "    self.nombre = nombre\n",
        "    self.cedula = cedula\n",
        "    self.saldo = saldo\n",
        "    self.historial = historial\n",
        "\n",
        "  def comprar(self, producto):\n",
        "    fechacompra = '21-10'\n",
        "    if self.saldo > producto.precio:\n",
        "      self.saldo -= producto.precio\n",
        "      self.historial.append([producto, fechacompra])"
      ],
      "metadata": {
        "id": "rrC7hAG2oqIt"
      },
      "execution_count": 411,
      "outputs": []
    },
    {
      "cell_type": "markdown",
      "source": [
        "Crear la clase Comprar, definiendo el producto y la fecha."
      ],
      "metadata": {
        "id": "0X87Ja6z6cLy"
      }
    },
    {
      "cell_type": "code",
      "source": [
        "class Comprar:\n",
        "  def __init__(self, producto, fecha):\n",
        "    self.producto = producto\n",
        "    self.fecha = fecha"
      ],
      "metadata": {
        "id": "SwrE9siE0VDK"
      },
      "execution_count": 412,
      "outputs": []
    },
    {
      "cell_type": "markdown",
      "source": [
        "Crear la clase Producto, definiendo el nombre y el precio."
      ],
      "metadata": {
        "id": "dO2sEUSqqKwW"
      }
    },
    {
      "cell_type": "code",
      "source": [
        "class Producto:\n",
        "  def __init__(self, nombre, precio):\n",
        "    self.nombre = nombre\n",
        "    self.precio = precio"
      ],
      "metadata": {
        "id": "VvJWOdxmqlMy"
      },
      "execution_count": 413,
      "outputs": []
    },
    {
      "cell_type": "markdown",
      "source": [
        "Crear cliente 1."
      ],
      "metadata": {
        "id": "PO55_qMMrhdu"
      }
    },
    {
      "cell_type": "code",
      "source": [
        "c1 = Cliente(nombre = 'Pedro', cedula = 123, saldo = 100.0)"
      ],
      "metadata": {
        "id": "MpItcIAjrMqj"
      },
      "execution_count": 414,
      "outputs": []
    },
    {
      "cell_type": "markdown",
      "source": [
        "Crear producto 1."
      ],
      "metadata": {
        "id": "d5u18pctrjgo"
      }
    },
    {
      "cell_type": "code",
      "source": [
        "p1 = Producto(nombre = 'Café', precio = 5)"
      ],
      "metadata": {
        "id": "5sNd-3n4rmd6"
      },
      "execution_count": 415,
      "outputs": []
    },
    {
      "cell_type": "markdown",
      "source": [
        "Realizar que el cliente 1 compre el producto 1."
      ],
      "metadata": {
        "id": "2J1oCUU0ry3I"
      }
    },
    {
      "cell_type": "code",
      "source": [
        "c1.comprar(p1)"
      ],
      "metadata": {
        "id": "wF7y5hHyr13D"
      },
      "execution_count": 416,
      "outputs": []
    },
    {
      "cell_type": "markdown",
      "source": [
        "Revisar el saldo actual del cliente."
      ],
      "metadata": {
        "id": "jnWpMs8Lr47i"
      }
    },
    {
      "cell_type": "code",
      "source": [
        "c1.saldo"
      ],
      "metadata": {
        "colab": {
          "base_uri": "https://localhost:8080/"
        },
        "id": "c7rkyn9Ar69I",
        "outputId": "b5fc0d15-e447-476b-819f-dfd80978508f"
      },
      "execution_count": 417,
      "outputs": [
        {
          "output_type": "execute_result",
          "data": {
            "text/plain": [
              "95.0"
            ]
          },
          "metadata": {},
          "execution_count": 417
        }
      ]
    },
    {
      "cell_type": "markdown",
      "source": [
        "Revisar el historial actual del cliente."
      ],
      "metadata": {
        "id": "jH_So4uascCF"
      }
    },
    {
      "cell_type": "code",
      "source": [
        "c1.historial[0][0].nombre"
      ],
      "metadata": {
        "colab": {
          "base_uri": "https://localhost:8080/",
          "height": 36
        },
        "id": "8hDaX4-ysd9j",
        "outputId": "3c3ce823-6063-4a94-d1d5-f55225bace1d"
      },
      "execution_count": 418,
      "outputs": [
        {
          "output_type": "execute_result",
          "data": {
            "text/plain": [
              "'Café'"
            ],
            "application/vnd.google.colaboratory.intrinsic+json": {
              "type": "string"
            }
          },
          "metadata": {},
          "execution_count": 418
        }
      ]
    },
    {
      "cell_type": "markdown",
      "source": [
        "Crear un producto 2."
      ],
      "metadata": {
        "id": "FTqG9V5Usldr"
      }
    },
    {
      "cell_type": "code",
      "source": [
        "p2 = Producto(nombre = 'Leche', precio = 15)"
      ],
      "metadata": {
        "id": "TO_pejG_sneH"
      },
      "execution_count": 419,
      "outputs": []
    },
    {
      "cell_type": "markdown",
      "source": [
        "Crear un producto 3."
      ],
      "metadata": {
        "id": "DPCZ7JMhsuaB"
      }
    },
    {
      "cell_type": "code",
      "source": [
        "p3 = Producto(nombre = 'Pan', precio = 20)"
      ],
      "metadata": {
        "id": "uuE4eeBkswlU"
      },
      "execution_count": 420,
      "outputs": []
    },
    {
      "cell_type": "markdown",
      "source": [
        "Colocar los Productos en un arreglo llamado \"productos\"."
      ],
      "metadata": {
        "id": "A6Yi33t5s2MH"
      }
    },
    {
      "cell_type": "code",
      "source": [
        "producto = [p1, p2, p3]"
      ],
      "metadata": {
        "id": "7JETpRL7s9G_"
      },
      "execution_count": 421,
      "outputs": []
    },
    {
      "cell_type": "markdown",
      "source": [
        "Realizar que el cliente compre los productos hasta que se quede sin saldo."
      ],
      "metadata": {
        "id": "bjWu5HQuwI2P"
      }
    },
    {
      "cell_type": "code",
      "source": [
        "for i in producto:\n",
        "  c1.comprar(i)"
      ],
      "metadata": {
        "id": "UxFzHVoMtBQM"
      },
      "execution_count": 422,
      "outputs": []
    },
    {
      "cell_type": "code",
      "source": [
        "for i in producto:\n",
        "  c1.comprar(i)"
      ],
      "metadata": {
        "id": "SYSTFuZHwNSv"
      },
      "execution_count": 423,
      "outputs": []
    },
    {
      "cell_type": "code",
      "source": [
        "for i in producto:\n",
        "  c1.comprar(i)"
      ],
      "metadata": {
        "id": "v5C7ny0TwNms"
      },
      "execution_count": 424,
      "outputs": []
    },
    {
      "cell_type": "code",
      "source": [
        "for i in producto:\n",
        "  c1.comprar(i)"
      ],
      "metadata": {
        "id": "JfjUoLUHw-b6"
      },
      "execution_count": 425,
      "outputs": []
    },
    {
      "cell_type": "markdown",
      "source": [
        "Mostrar el historial total del cliente."
      ],
      "metadata": {
        "id": "Fw8Lr8rtwO_3"
      }
    },
    {
      "cell_type": "code",
      "source": [
        "for producto, fecha in c1.historial:\n",
        "  print(producto.nombre, producto.precio, \" |Fecha:\", fecha)"
      ],
      "metadata": {
        "colab": {
          "base_uri": "https://localhost:8080/"
        },
        "id": "xMPKwndZwU98",
        "outputId": "90defe66-dd1c-4bb6-86fd-761bd516293f"
      },
      "execution_count": 426,
      "outputs": [
        {
          "output_type": "stream",
          "name": "stdout",
          "text": [
            "Café 5  |Fecha: 21-10\n",
            "Café 5  |Fecha: 21-10\n",
            "Leche 15  |Fecha: 21-10\n",
            "Pan 20  |Fecha: 21-10\n",
            "Café 5  |Fecha: 21-10\n",
            "Leche 15  |Fecha: 21-10\n",
            "Pan 20  |Fecha: 21-10\n",
            "Café 5  |Fecha: 21-10\n",
            "Café 5  |Fecha: 21-10\n"
          ]
        }
      ]
    },
    {
      "cell_type": "markdown",
      "source": [
        "Mostrar el saldo actual."
      ],
      "metadata": {
        "id": "qIMrEAR6w5wu"
      }
    },
    {
      "cell_type": "code",
      "source": [
        "c1.saldo"
      ],
      "metadata": {
        "colab": {
          "base_uri": "https://localhost:8080/"
        },
        "id": "QzLnBX-Pw8JG",
        "outputId": "0ac432d2-caa4-4f22-f4b9-8930e07a1803"
      },
      "execution_count": 427,
      "outputs": [
        {
          "output_type": "execute_result",
          "data": {
            "text/plain": [
              "5.0"
            ]
          },
          "metadata": {},
          "execution_count": 427
        }
      ]
    },
    {
      "cell_type": "markdown",
      "source": [
        "Mostrar cuantos productos ha comprado."
      ],
      "metadata": {
        "id": "ZGRrq-vKxA-G"
      }
    },
    {
      "cell_type": "code",
      "source": [
        "len(c1.historial)"
      ],
      "metadata": {
        "colab": {
          "base_uri": "https://localhost:8080/"
        },
        "id": "d3aAwLMPxDFw",
        "outputId": "495cef9c-b9c3-41f5-b3a6-1ab2c9ed2749"
      },
      "execution_count": 428,
      "outputs": [
        {
          "output_type": "execute_result",
          "data": {
            "text/plain": [
              "9"
            ]
          },
          "metadata": {},
          "execution_count": 428
        }
      ]
    }
  ]
}