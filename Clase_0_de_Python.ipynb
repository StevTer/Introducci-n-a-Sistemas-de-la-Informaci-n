{
  "nbformat": 4,
  "nbformat_minor": 0,
  "metadata": {
    "colab": {
      "provenance": []
    },
    "kernelspec": {
      "name": "python3",
      "display_name": "Python 3"
    },
    "language_info": {
      "name": "python"
    }
  },
  "cells": [
    {
      "cell_type": "markdown",
      "source": [
        "Clase 0 de Python."
      ],
      "metadata": {
        "id": "DoIleIsKeBq-"
      }
    },
    {
      "cell_type": "markdown",
      "source": [
        "1. Realizar un hola mundo sencillo."
      ],
      "metadata": {
        "id": "WxJfAkxxeEMA"
      }
    },
    {
      "cell_type": "code",
      "source": [
        "print(\"Hola Mundo\")"
      ],
      "metadata": {
        "colab": {
          "base_uri": "https://localhost:8080/"
        },
        "id": "j4MONJKDeJhH",
        "outputId": "f5cdd3ac-7400-435b-8572-3add7ee04a33"
      },
      "execution_count": null,
      "outputs": [
        {
          "output_type": "stream",
          "name": "stdout",
          "text": [
            "Hola Mundo\n"
          ]
        }
      ]
    },
    {
      "cell_type": "markdown",
      "source": [
        "2. Realizar una suma sencilla."
      ],
      "metadata": {
        "id": "wUVrd7oweWFZ"
      }
    },
    {
      "cell_type": "code",
      "source": [
        "5 + 3"
      ],
      "metadata": {
        "colab": {
          "base_uri": "https://localhost:8080/"
        },
        "id": "h-JbtoB8edvn",
        "outputId": "b61f9948-7de7-4a20-e219-851e4305f82f"
      },
      "execution_count": null,
      "outputs": [
        {
          "output_type": "execute_result",
          "data": {
            "text/plain": [
              "8"
            ]
          },
          "metadata": {},
          "execution_count": 24
        }
      ]
    },
    {
      "cell_type": "markdown",
      "source": [
        "3. Realizar una suma declarando variables."
      ],
      "metadata": {
        "id": "yvmSeyYYehR1"
      }
    },
    {
      "cell_type": "code",
      "source": [
        "x = 5\n",
        "y = 3\n",
        "z = x + y\n",
        "print(z)"
      ],
      "metadata": {
        "colab": {
          "base_uri": "https://localhost:8080/"
        },
        "id": "cVPUKqCmelVm",
        "outputId": "5228b7d6-d546-435b-82b1-b444192ad766"
      },
      "execution_count": null,
      "outputs": [
        {
          "output_type": "stream",
          "name": "stdout",
          "text": [
            "8\n"
          ]
        }
      ]
    },
    {
      "cell_type": "markdown",
      "source": [
        "4. Asignar una variable y una lista."
      ],
      "metadata": {
        "id": "kKCS1QqGgMTI"
      }
    },
    {
      "cell_type": "code",
      "source": [
        "x = 7\n",
        "numeros = [1, 2, 3, 4, 5, 6, 7, 8]\n",
        "print(numeros)\n",
        "print(x)"
      ],
      "metadata": {
        "colab": {
          "base_uri": "https://localhost:8080/"
        },
        "id": "ygUrTUz3gTLa",
        "outputId": "b19d371b-b1f7-44e9-fc15-babffc5f9e7d"
      },
      "execution_count": null,
      "outputs": [
        {
          "output_type": "stream",
          "name": "stdout",
          "text": [
            "[1, 2, 3, 4, 5, 6, 7, 8]\n",
            "7\n"
          ]
        }
      ]
    },
    {
      "cell_type": "markdown",
      "source": [
        "5. Estructura de control \"if\", tomando en cuenta la variable de x."
      ],
      "metadata": {
        "id": "zKGw3PJvgZbX"
      }
    },
    {
      "cell_type": "code",
      "source": [
        "x = 7\n",
        "if x > 5:\n",
        "  print(\"El número es mayor a 5\")\n",
        "else:\n",
        "  print(\"El número es menor a 5\")"
      ],
      "metadata": {
        "colab": {
          "base_uri": "https://localhost:8080/"
        },
        "id": "Ylr6HHyWgfkz",
        "outputId": "ffe70cee-def5-44fd-b108-3befbfe6c1fe"
      },
      "execution_count": null,
      "outputs": [
        {
          "output_type": "stream",
          "name": "stdout",
          "text": [
            "El número es mayor a 5\n"
          ]
        }
      ]
    },
    {
      "cell_type": "markdown",
      "source": [
        "6. Estructura de control \"for\" con range 10."
      ],
      "metadata": {
        "id": "vu0rQ-GRg0kS"
      }
    },
    {
      "cell_type": "code",
      "source": [
        "for i in range(10):\n",
        "  print(i)"
      ],
      "metadata": {
        "colab": {
          "base_uri": "https://localhost:8080/"
        },
        "id": "51xBIk2cg5PI",
        "outputId": "48cf26f4-4952-4a41-c873-c93443c69822"
      },
      "execution_count": null,
      "outputs": [
        {
          "output_type": "stream",
          "name": "stdout",
          "text": [
            "0\n",
            "1\n",
            "2\n",
            "3\n",
            "4\n",
            "5\n",
            "6\n",
            "7\n",
            "8\n",
            "9\n"
          ]
        }
      ]
    },
    {
      "cell_type": "markdown",
      "source": [
        "7. Remover el número 8 de una lista de numeros."
      ],
      "metadata": {
        "id": "doE5JJaxiDqq"
      }
    },
    {
      "cell_type": "code",
      "source": [
        "numeros.remove(8)\n",
        "for i in numeros:\n",
        "  print(i)"
      ],
      "metadata": {
        "colab": {
          "base_uri": "https://localhost:8080/"
        },
        "id": "Gvly9vFZiIRe",
        "outputId": "2b21a6cf-436f-4510-d5f2-313cbeb02852"
      },
      "execution_count": null,
      "outputs": [
        {
          "output_type": "stream",
          "name": "stdout",
          "text": [
            "1\n",
            "2\n",
            "3\n",
            "4\n",
            "5\n",
            "6\n",
            "7\n"
          ]
        }
      ]
    },
    {
      "cell_type": "markdown",
      "source": [
        "8. Añadir el número 9 en la lista de números."
      ],
      "metadata": {
        "id": "fhzMt4tlimr9"
      }
    },
    {
      "cell_type": "code",
      "source": [
        "numeros.append(9)\n",
        "\n",
        "for i in numeros:\n",
        "  print (i)"
      ],
      "metadata": {
        "colab": {
          "base_uri": "https://localhost:8080/"
        },
        "id": "qPSoT577irjv",
        "outputId": "84c073be-2d85-48ed-f49a-650530b40957"
      },
      "execution_count": null,
      "outputs": [
        {
          "output_type": "stream",
          "name": "stdout",
          "text": [
            "1\n",
            "2\n",
            "3\n",
            "4\n",
            "5\n",
            "6\n",
            "7\n",
            "8\n",
            "9\n"
          ]
        }
      ]
    },
    {
      "cell_type": "markdown",
      "source": [
        "9. Declaro el diccionario y los componentes del mismo."
      ],
      "metadata": {
        "id": "WU_HZ5lPi21U"
      }
    },
    {
      "cell_type": "code",
      "source": [
        "a = {'nombre': 'Steven', 'edad': 19, 'altura': 1.82}\n",
        "b = {'nombre': 'Pepe', 'edad': 18, 'altura': 1.80}\n",
        "x = [a,b]\n",
        "print(x)"
      ],
      "metadata": {
        "colab": {
          "base_uri": "https://localhost:8080/"
        },
        "id": "2iKWYQbbi6y_",
        "outputId": "992c8869-a971-4757-a58a-03982e1c456c"
      },
      "execution_count": null,
      "outputs": [
        {
          "output_type": "stream",
          "name": "stdout",
          "text": [
            "[{'nombre': 'Steven', 'edad': 19, 'altura': 1.82}, {'nombre': 'Pepe', 'edad': 18, 'altura': 1.8}]\n"
          ]
        }
      ]
    },
    {
      "cell_type": "markdown",
      "source": [
        "10. Hacer un bucle \"for\" para recorrer el nombre de a y b."
      ],
      "metadata": {
        "id": "EiK_cWR-jVOM"
      }
    },
    {
      "cell_type": "code",
      "source": [
        "for i in x:\n",
        "  print(i['nombre'])"
      ],
      "metadata": {
        "colab": {
          "base_uri": "https://localhost:8080/"
        },
        "id": "o13CLAQDjb5m",
        "outputId": "7a4a5cd7-1ac8-4c5f-ac95-f68bb6621730"
      },
      "execution_count": null,
      "outputs": [
        {
          "output_type": "stream",
          "name": "stdout",
          "text": [
            "Steven\n",
            "Pepe\n"
          ]
        }
      ]
    },
    {
      "cell_type": "markdown",
      "source": [
        "11. Agregar la variable ID."
      ],
      "metadata": {
        "id": "n6TX37WijhnT"
      }
    },
    {
      "cell_type": "code",
      "source": [
        "a['ID'] = '1755214671'\n",
        "b['ID'] = '1802029446'\n",
        "print(a)"
      ],
      "metadata": {
        "colab": {
          "base_uri": "https://localhost:8080/"
        },
        "id": "kjXt92f1jktP",
        "outputId": "9a1a2e21-f064-4257-a9a0-885eee4e4ea2"
      },
      "execution_count": null,
      "outputs": [
        {
          "output_type": "stream",
          "name": "stdout",
          "text": [
            "{'nombre': 'Steven', 'edad': 19, 'altura': 1.82, 'ID': '1755214671'}\n"
          ]
        }
      ]
    }
  ]
}